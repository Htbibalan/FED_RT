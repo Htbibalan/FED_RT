{
 "cells": [
  {
   "cell_type": "markdown",
   "id": "4a1b258a-acd7-4a84-9839-75d24c8ae0aa",
   "metadata": {},
   "source": [
    "## <font color = \"deepskyblue\"> 1) Install necessary modules and packages </font>"
   ]
  },
  {
   "cell_type": "code",
   "execution_count": null,
   "id": "cf2e27fd-4443-4a16-b93a-ead4a302a297",
   "metadata": {},
   "outputs": [],
   "source": [
    "#installing necessary dependencies and packages \n",
    "!pip install pyserial\n",
    "!pip install --upgrade google-auth google-auth-oauthlib google-auth-httplib2 google-api-python-client\n",
    "!pip install oauth2client\n",
    "!pip install gspread"
   ]
  },
  {
   "cell_type": "markdown",
   "id": "4e8f4d0d-a307-4bdc-a63e-ff4b6977e732",
   "metadata": {},
   "source": [
    "## <font color = \"deepskyblue\"> 2) Once you have your Google Spreadsheet and API credentials ready, replace the fileds based on directories, port numbers, etc on your computer and run the code below</font>"
   ]
  },
  {
   "cell_type": "code",
   "execution_count": null,
   "id": "a1f1582f-c3d0-4ca6-b151-e5ced17a1dc9",
   "metadata": {},
   "outputs": [],
   "source": [
    "import serial\n",
    "import threading\n",
    "import datetime  \n",
    "import gspread\n",
    "from google.oauth2.service_account import Credentials\n",
    "\n",
    "# the data coming from serial monitor is separated by \",\" and stored in one single string\n",
    "# Define the column headers based on your desired CSV structure\n",
    "\n",
    "column_headers = [\n",
    "    \"MM/DD/YYYY hh:mm:ss.SSS\", \"Temp\", \"Humidity\", \"Library_Version\", \"Session_type\",\n",
    "    \"Device_Number\", \"Battery_Voltage\", \"Motor_Turns\", \"FR\", \"Event\", \"Active_Poke\",\n",
    "    \"Left_Poke_Count\", \"Right_Poke_Count\", \"Pellet_Count\", \"Block_Pellet_Count\",\n",
    "    \"Retrieval_Time\", \"InterPelletInterval\", \"Poke_Time\"\n",
    "]\n",
    "\n",
    "# Here we setup the Google Sheets\n",
    "SCOPE = [\"https://spreadsheets.google.com/feeds\", 'https://www.googleapis.com/auth/spreadsheets',\n",
    "         \"https://www.googleapis.com/auth/drive.file\", \"https://www.googleapis.com/auth/drive\"]\n",
    "\n",
    "# Path to your downloaded JSON file(the file you downloaded making API on google console service)\n",
    "CREDS_FILE = r\"C:\\Users\\hta031\\Github\\HOME_PHOTOMETRY\\scripts\\Python_codes\\homephotometry-102601e8b10f.json\"\n",
    "\n",
    "creds = Credentials.from_service_account_file(CREDS_FILE, scopes=SCOPE)\n",
    "client = gspread.authorize(creds)\n",
    "\n",
    "# Replace with the ID of your Google Sheets document\n",
    "# open your spreadsheet on your Google drive, in the address bar, copy the ID which is between \"/d/\" and \"/edit\"\n",
    "SPREADSHEET_ID = \"1oybqWp_7b9_oiR-a1Xy0YLw8LwvGfqtmSz2lYfEzrBk\"\n",
    "\n",
    "def get_or_create_worksheet(spreadsheet, title):\n",
    "    try:\n",
    "        # Try to open the worksheet by title\n",
    "        sheet = spreadsheet.worksheet(title)\n",
    "        print(f\"Worksheet '{title}' found.\")\n",
    "    except gspread.exceptions.WorksheetNotFound:\n",
    "        # If the worksheet is not found, create it\n",
    "        print(f\"Worksheet '{title}' not found. Creating a new one.\")\n",
    "        sheet = spreadsheet.add_worksheet(title=title, rows=\"1000\", cols=\"20\")\n",
    "        sheet.append_row(column_headers)\n",
    "    return sheet\n",
    "\n",
    "def read_from_port(ser, worksheet_name):\n",
    "    spreadsheet = client.open_by_key(SPREADSHEET_ID)\n",
    "    sheet = get_or_create_worksheet(spreadsheet, worksheet_name)\n",
    "    \n",
    "    while True:\n",
    "        data = ser.readline().decode('utf-8').strip()\n",
    "        data_list = data.split(\",\")  # Split the data string into a list\n",
    "        timestamp = datetime.datetime.now().strftime(\"%Y-%m-%d %H:%M:%S.%f\")[:-3]  # Get current timestamp with milliseconds\n",
    "        # to sync all the FED units with each other, I tend not to rely on FED clock,\n",
    "        # Ignore the first field (timestamp from FED device) and use the computer's timestamp\n",
    "        data_list = data_list[1:]  # Skip the FED device timestamp\n",
    "        \n",
    "        print(f\"Data from {ser.port}: {data}\")\n",
    "\n",
    "        # Assuming the data matches the order of the remaining column_headers\n",
    "        if len(data_list) == len(column_headers) - 1:  # -1 because timestamp is added\n",
    "            # Append the row to Google Sheet\n",
    "            sheet.append_row([timestamp] + data_list)\n",
    "        else:\n",
    "            print(f\"Warning: Data length {len(data_list)} does not match header length {len(column_headers) - 1}\")\n",
    "\n",
    "# Define your ports and baud rate\n",
    "ports = [\"COM16\"]  # Replace with your COM ports, on Mac systems the port number is different and longer\n",
    "baud_rate = 115200\n",
    "\n",
    "# Start reading from each port in a separate thread\n",
    "for port in ports:\n",
    "    worksheet_name = f\"Port_{port}\"  # Create a unique worksheet name for each port\n",
    "    ser = serial.Serial(port, baud_rate)\n",
    "    threading.Thread(target=read_from_port, args=(ser, worksheet_name)).start()\n"
   ]
  },
  {
   "cell_type": "code",
   "execution_count": null,
   "id": "ec00caa1-b544-4ea1-ad86-2404d523e305",
   "metadata": {},
   "outputs": [],
   "source": []
  }
 ],
 "metadata": {
  "kernelspec": {
   "display_name": "Python 3 (ipykernel)",
   "language": "python",
   "name": "python3"
  },
  "language_info": {
   "codemirror_mode": {
    "name": "ipython",
    "version": 3
   },
   "file_extension": ".py",
   "mimetype": "text/x-python",
   "name": "python",
   "nbconvert_exporter": "python",
   "pygments_lexer": "ipython3",
   "version": "3.12.1"
  }
 },
 "nbformat": 4,
 "nbformat_minor": 5
}
