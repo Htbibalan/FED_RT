{
 "cells": [
  {
   "cell_type": "markdown",
   "id": "4a1b258a-acd7-4a84-9839-75d24c8ae0aa",
   "metadata": {},
   "source": [
    "## <font color = \"deepskyblue\"> 1) Install necessary modules and packages and libraries </font>"
   ]
  },
  {
   "cell_type": "code",
   "execution_count": null,
   "id": "cf2e27fd-4443-4a16-b93a-ead4a302a297",
   "metadata": {},
   "outputs": [],
   "source": [
    "#installing necessary dependencies and packages \n",
    "!pip install pyserial\n",
    "!pip install --upgrade google-auth google-auth-oauthlib google-auth-httplib2 google-api-python-client\n",
    "!pip install gspread"
   ]
  },
  {
   "cell_type": "markdown",
   "id": "4e8f4d0d-a307-4bdc-a63e-ff4b6977e732",
   "metadata": {},
   "source": [
    "## <font color = \"deepskyblue\"> 2) Once you have your Google Spreadsheet and API credentials ready, replace the fileds based on directories, port numbers, etc on your computer and run the code below</font>"
   ]
  },
  {
   "cell_type": "code",
   "execution_count": 2,
   "id": "a1f1582f-c3d0-4ca6-b151-e5ced17a1dc9",
   "metadata": {},
   "outputs": [
    {
     "name": "stdout",
     "output_type": "stream",
     "text": [
      "Worksheet 'Port_COM16' not found. Creating a new one.\n",
      "Data from COM16: 8/16/2024 11:29:06,25.08,56.29,1.16.3,FR1,20,4.20,NaN,1,Right,Left,0,1,0,0,NaN,NaN,0.06\n",
      "Data from COM16: 8/16/2024 11:29:11,25.05,56.37,1.16.3,FR1,20,4.20,NaN,1,Right,Left,0,2,0,0,NaN,NaN,0.09\n",
      "Data from COM16: 8/16/2024 11:29:14,25.06,56.42,1.16.3,FR1,20,4.20,NaN,1,Right,Left,0,3,0,0,NaN,NaN,0.03\n",
      "Data from COM16: 8/16/2024 11:29:14,25.07,56.40,1.16.3,FR1,20,4.20,NaN,1,Right,Left,0,4,0,0,NaN,NaN,0.00\n",
      "Data from COM16: 8/16/2024 11:29:15,25.07,56.38,1.16.3,FR1,20,4.20,NaN,1,Right,Left,0,5,0,0,NaN,NaN,0.00\n",
      "Data from COM16: 8/16/2024 11:29:27,25.01,56.65,1.16.3,FR1,20,4.20,NaN,1,Right,Left,0,6,0,0,NaN,NaN,0.00\n",
      "Data from COM16: 8/16/2024 11:30:06,25.00,56.60,1.16.3,FR1,20,4.20,NaN,1,Right,Left,0,7,0,0,NaN,NaN,0.00\n",
      "Data from COM16: 8/16/2024 11:30:08,25.02,56.60,1.16.3,FR1,20,4.20,NaN,1,Right,Left,0,8,0,0,NaN,NaN,0.00\n",
      "Data from COM16: 8/16/2024 11:30:31,24.96,56.50,1.16.3,FR1,20,4.20,NaN,1,Right,Left,0,9,0,0,NaN,NaN,0.00\n",
      "Data from COM16: 8/16/2024 11:30:34,24.97,56.57,1.16.3,FR1,20,4.20,NaN,1,Right,Left,0,10,0,0,NaN,NaN,0.00\n",
      "Data from COM16: 8/16/2024 11:30:35,24.98,56.58,1.16.3,FR1,20,4.20,NaN,1,Right,Left,0,11,0,0,NaN,NaN,0.07\n",
      "Data from COM16: 8/16/2024 11:30:36,24.98,56.58,1.16.3,FR1,20,4.20,NaN,1,Right,Left,0,12,0,0,NaN,NaN,0.00\n",
      "Data from COM16: 8/16/2024 11:30:59,24.93,56.64,1.16.3,FR1,20,4.20,NaN,1,Right,Left,0,13,0,0,NaN,NaN,0.00\n",
      "Data from COM16: 8/16/2024 11:31:01,24.92,56.68,1.16.3,FR1,20,4.20,NaN,1,Right,Left,0,14,0,0,NaN,NaN,0.00\n",
      "Data from COM16: 8/16/2024 11:31:02,24.93,56.70,1.16.3,FR1,20,4.20,NaN,1,Right,Left,0,15,0,0,NaN,NaN,0.00\n",
      "Data from COM16: 8/16/2024 11:31:02,24.94,56.70,1.16.3,FR1,20,4.20,NaN,1,Right,Left,0,16,0,0,NaN,NaN,0.00\n",
      "Data from COM16: 8/16/2024 11:31:03,24.94,56.71,1.16.3,FR1,20,4.20,NaN,1,Right,Left,0,17,0,0,NaN,NaN,0.00\n",
      "Data from COM16: 8/16/2024 11:31:47,24.90,56.91,1.16.3,FR1,20,4.20,NaN,1,Right,Left,0,18,0,0,NaN,NaN,0.00\n",
      "Data from COM16: 8/16/2024 11:31:48,24.89,56.90,1.16.3,FR1,20,4.20,NaN,1,Right,Left,0,19,0,0,NaN,NaN,0.00\n",
      "Data from COM16: 8/16/2024 11:31:49,24.90,56.87,1.16.3,FR1,20,4.20,NaN,1,Right,Left,0,20,0,0,NaN,NaN,0.00\n",
      "Data from COM16: 8/16/2024 11:31:50,24.91,56.86,1.16.3,FR1,20,4.20,NaN,1,Right,Left,0,21,0,0,NaN,NaN,0.00\n",
      "Data from COM16: 8/16/2024 11:31:51,24.91,56.83,1.16.3,FR1,20,4.20,NaN,1,Right,Left,0,22,0,0,NaN,NaN,0.00\n",
      "Data from COM16: 8/16/2024 11:32:24,24.90,56.69,1.16.3,FR1,20,4.20,NaN,1,Right,Left,0,23,0,0,NaN,NaN,0.00\n",
      "Data from COM16: 8/16/2024 11:32:25,24.91,56.68,1.16.3,FR1,20,4.20,NaN,1,Right,Left,0,24,0,0,NaN,NaN,0.00\n",
      "Data from COM16: 8/16/2024 11:32:26,24.91,56.68,1.16.3,FR1,20,4.20,NaN,1,Right,Left,0,25,0,0,NaN,NaN,0.00\n",
      "Data from COM16: 8/16/2024 11:32:38,24.91,56.68,1.16.3,FR1,20,4.20,NaN,1,Right,Left,0,26,0,0,NaN,NaN,0.06\n",
      "Data from COM16: 8/16/2024 11:32:39,24.90,56.64,1.16.3,FR1,20,4.20,NaN,1,Right,Left,0,27,0,0,NaN,NaN,0.00\n",
      "Data from COM16: 8/16/2024 11:32:41,24.90,56.67,1.16.3,FR1,20,4.20,NaN,1,Right,Left,0,28,0,0,NaN,NaN,0.00\n",
      "Data from COM16: 8/16/2024 11:32:42,24.90,56.65,1.16.3,FR1,20,4.20,NaN,1,Right,Left,0,29,0,0,NaN,NaN,0.00\n",
      "Data from COM16: 8/16/2024 11:32:42,24.91,56.65,1.16.3,FR1,20,4.20,NaN,1,Right,Left,0,30,0,0,NaN,NaN,0.01\n",
      "Data from COM16: 8/16/2024 11:32:43,24.92,56.64,1.16.3,FR1,20,4.20,NaN,1,Right,Left,0,31,0,0,NaN,NaN,0.00\n",
      "Data from COM16: 8/16/2024 11:33:28,24.90,56.63,1.16.3,FR1,20,4.20,NaN,1,Right,Left,0,32,0,0,NaN,NaN,0.00\n",
      "Data from COM16: 8/16/2024 11:33:28,24.90,56.63,1.16.3,FR1,20,4.20,NaN,1,Right,Left,0,33,0,0,NaN,NaN,0.05\n"
     ]
    }
   ],
   "source": [
    "import serial\n",
    "import threading\n",
    "import datetime  \n",
    "import gspread\n",
    "from google.oauth2.service_account import Credentials\n",
    "\n",
    "# the data coming from serial monitor is separated by \",\" and stored in one single string\n",
    "# Define the column headers based on your desired CSV structure\n",
    "\n",
    "column_headers = [\n",
    "    \"MM/DD/YYYY hh:mm:ss.SSS\", \"Temp\", \"Humidity\", \"Library_Version\", \"Session_type\",\n",
    "    \"Device_Number\", \"Battery_Voltage\", \"Motor_Turns\", \"FR\", \"Event\", \"Active_Poke\",\n",
    "    \"Left_Poke_Count\", \"Right_Poke_Count\", \"Pellet_Count\", \"Block_Pellet_Count\",\n",
    "    \"Retrieval_Time\", \"InterPelletInterval\", \"Poke_Time\"\n",
    "]\n",
    "\n",
    "# Here we setup the Google Sheets\n",
    "SCOPE = [\"https://spreadsheets.google.com/feeds\", 'https://www.googleapis.com/auth/spreadsheets',\n",
    "         \"https://www.googleapis.com/auth/drive.file\", \"https://www.googleapis.com/auth/drive\"]\n",
    "\n",
    "# Path to your downloaded JSON file(the file you downloaded making API on google console service)\n",
    "CREDS_FILE = r\"\"\n",
    "\n",
    "creds = Credentials.from_service_account_file(CREDS_FILE, scopes=SCOPE)\n",
    "client = gspread.authorize(creds)\n",
    "\n",
    "# Replace with the ID of your Google Sheets document\n",
    "# open your spreadsheet on your Google drive, in the address bar, copy the ID which is between \"/d/\" and \"/edit\"\n",
    "SPREADSHEET_ID = \"\"\n",
    "\n",
    "def get_or_create_worksheet(spreadsheet, title):\n",
    "    try:\n",
    "        # Try to open the worksheet by title\n",
    "        sheet = spreadsheet.worksheet(title)\n",
    "        print(f\"Worksheet '{title}' found.\")\n",
    "    except gspread.exceptions.WorksheetNotFound:\n",
    "        # If the worksheet is not found, create it\n",
    "        print(f\"Worksheet '{title}' not found. Creating a new one.\")\n",
    "        sheet = spreadsheet.add_worksheet(title=title, rows=\"1000\", cols=\"20\")\n",
    "        sheet.append_row(column_headers)\n",
    "    return sheet\n",
    "\n",
    "def read_from_port(ser, worksheet_name):\n",
    "    spreadsheet = client.open_by_key(SPREADSHEET_ID)\n",
    "    sheet = get_or_create_worksheet(spreadsheet, worksheet_name)\n",
    "    \n",
    "    while True:\n",
    "        data = ser.readline().decode('utf-8').strip()\n",
    "        data_list = data.split(\",\")  # Split the data string into a list\n",
    "        timestamp = datetime.datetime.now().strftime(\"%Y-%m-%d %H:%M:%S.%f\")[:-3]  # Get current timestamp with milliseconds\n",
    "        # to sync all the FED units with each other, I tend not to rely on FED clock,\n",
    "        # Ignore the first field (timestamp from FED device) and use the computer's timestamp\n",
    "        data_list = data_list[1:]  # Skip the FED device timestamp\n",
    "        \n",
    "        print(f\"Data from {ser.port}: {data}\")\n",
    "\n",
    "        # Assuming the data matches the order of the remaining column_headers\n",
    "        if len(data_list) == len(column_headers) - 1:  # -1 because timestamp is added\n",
    "            # Append the row to Google Sheet\n",
    "            sheet.append_row([timestamp] + data_list)\n",
    "        else:\n",
    "            print(f\"Warning: Data length {len(data_list)} does not match header length {len(column_headers) - 1}\")\n",
    "\n",
    "# Define your ports and baud rate\n",
    "ports = [\"COM16\"]  # Replace with your COM ports, on Mac systems the port number is different and longer\n",
    "baud_rate = 115200\n",
    "\n",
    "# Start reading from each port in a separate thread\n",
    "for port in ports:\n",
    "    worksheet_name = f\"Port_{port}\"  # Create a unique worksheet name for each port\n",
    "    ser = serial.Serial(port, baud_rate)\n",
    "    threading.Thread(target=read_from_port, args=(ser, worksheet_name)).start()\n"
   ]
  },
  {
   "cell_type": "code",
   "execution_count": null,
   "id": "ec00caa1-b544-4ea1-ad86-2404d523e305",
   "metadata": {},
   "outputs": [],
   "source": []
  }
 ],
 "metadata": {
  "kernelspec": {
   "display_name": "Python 3 (ipykernel)",
   "language": "python",
   "name": "python3"
  },
  "language_info": {
   "codemirror_mode": {
    "name": "ipython",
    "version": 3
   },
   "file_extension": ".py",
   "mimetype": "text/x-python",
   "name": "python",
   "nbconvert_exporter": "python",
   "pygments_lexer": "ipython3",
   "version": "3.12.1"
  }
 },
 "nbformat": 4,
 "nbformat_minor": 5
}
